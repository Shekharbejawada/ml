{
  "cells": [
    {
      "cell_type": "markdown",
      "metadata": {
        "id": "view-in-github",
        "colab_type": "text"
      },
      "source": [
        "<a href=\"https://colab.research.google.com/github/Shekharbejawada/ml/blob/main/ML_lab_(1).ipynb\" target=\"_parent\"><img src=\"https://colab.research.google.com/assets/colab-badge.svg\" alt=\"Open In Colab\"/></a>"
      ]
    },
    {
      "cell_type": "code",
      "execution_count": null,
      "id": "7622d3e3-ddcf-4a9b-b3a4-73af5899b4ab",
      "metadata": {
        "id": "7622d3e3-ddcf-4a9b-b3a4-73af5899b4ab",
        "outputId": "15fe9dec-3eb7-4e7f-830c-106a428aa88d"
      },
      "outputs": [
        {
          "name": "stdout",
          "output_type": "stream",
          "text": [
            "     sky airtemp humidity    wind water forcast enjoysport\n",
            "0  sunny    warm   normal  strong  warm    same        yes\n",
            "1  sunny    warm     high  strong  warm    same        yes\n",
            "2  rainy    cold     high  strong  warm  change         no\n",
            "3  sunny    warm     high  strong  cool  change        yes\n"
          ]
        },
        {
          "data": {
            "text/plain": [
              "array(['sunny', 'warm', '?', 'strong', '?', '?'], dtype=object)"
            ]
          },
          "execution_count": 2,
          "metadata": {},
          "output_type": "execute_result"
        }
      ],
      "source": [
        "#FIND-S\n",
        "import numpy as np\n",
        "import pandas as pd\n",
        "data=pd.read_csv(\"Sample.csv\")\n",
        "print(data)\n",
        "d=np.array(data)[:,:-1]\n",
        "target=np.array(data)[:,-1]\n",
        "def train(c,t):\n",
        "    for i,val in enumerate(t):\n",
        "        if val=='yes':\n",
        "            specific_h=c[i].copy()\n",
        "            break\n",
        "    for i,val in enumerate(c):\n",
        "        if t[i]=='yes':\n",
        "            for x in range(len(specific_h)):\n",
        "                if val[x]!=specific_h[x]:\n",
        "                    specific_h[x]='?'\n",
        "                else:\n",
        "                    pass\n",
        "    return specific_h\n",
        "train(d,target)"
      ]
    },
    {
      "cell_type": "code",
      "execution_count": null,
      "id": "c57267bb-29db-4e8d-9325-aaaa651a2721",
      "metadata": {
        "id": "c57267bb-29db-4e8d-9325-aaaa651a2721",
        "outputId": "1c97f248-7606-47fd-8439-ec2a15f9ce37"
      },
      "outputs": [
        {
          "name": "stdout",
          "output_type": "stream",
          "text": [
            "     sky airtemp humidity    wind water forcast enjoysport\n",
            "0  sunny    warm   normal  strong  warm    same        yes\n",
            "1  sunny    warm     high  strong  warm    same        yes\n",
            "2  rainy    cold     high  strong  warm  change         no\n",
            "3  sunny    warm     high  strong  cool  change        yes\n",
            "\n",
            "Instances are:\n",
            " [['sunny' 'warm' 'normal' 'strong' 'warm' 'same']\n",
            " ['sunny' 'warm' 'high' 'strong' 'warm' 'same']\n",
            " ['rainy' 'cold' 'high' 'strong' 'warm' 'change']\n",
            " ['sunny' 'warm' 'high' 'strong' 'cool' 'change']]\n",
            "\n",
            "Target Values are:  ['yes' 'yes' 'no' 'yes']\n",
            "\n",
            "Initialization of specific_h and genearal_h\n",
            "\n",
            "Specific Boundary:  ['sunny' 'warm' 'normal' 'strong' 'warm' 'same']\n",
            "\n",
            "Generic Boundary:  [['?', '?', '?', '?', '?', '?'], ['?', '?', '?', '?', '?', '?'], ['?', '?', '?', '?', '?', '?'], ['?', '?', '?', '?', '?', '?'], ['?', '?', '?', '?', '?', '?'], ['?', '?', '?', '?', '?', '?']]\n",
            "\n",
            "Instance 1 is  ['sunny' 'warm' 'normal' 'strong' 'warm' 'same']\n",
            "Instance is Positive \n",
            "\n",
            "Instance 2 is  ['sunny' 'warm' 'high' 'strong' 'warm' 'same']\n",
            "Instance is Positive \n",
            "\n",
            "Instance 3 is  ['rainy' 'cold' 'high' 'strong' 'warm' 'change']\n",
            "Instance is Negative \n",
            "\n",
            "Instance 4 is  ['sunny' 'warm' 'high' 'strong' 'cool' 'change']\n",
            "Instance is Positive \n",
            "Final Specific_h: \n",
            "['sunny' 'warm' '?' 'strong' '?' '?']\n",
            "Final General_h: \n",
            "[['sunny', '?', '?', '?', '?', '?'], ['?', 'warm', '?', '?', '?', '?']]\n"
          ]
        }
      ],
      "source": [
        "#Candidiate Elimination\n",
        "import numpy as np\n",
        "import pandas as pd\n",
        "data = pd.read_csv(\"Sample.csv\")\n",
        "print(data)\n",
        "d = np.array(data.iloc[:,0:-1])\n",
        "d\n",
        "print(\"\\nInstances are:\\n\",d)\n",
        "target = np.array(data.iloc[:,-1])\n",
        "print(\"\\nTarget Values are: \",target)\n",
        "def learn(d, target):\n",
        "    specific_h = d[0].copy()\n",
        "    print(\"\\nInitialization of specific_h and genearal_h\")\n",
        "    print(\"\\nSpecific Boundary: \", specific_h)\n",
        "    general_h = [[\"?\" for i in range(len(specific_h))] for i in range(len(specific_h))]\n",
        "    print(\"\\nGeneric Boundary: \",general_h)\n",
        "    for i, h in enumerate(d):\n",
        "        print(\"\\nInstance\", i+1 , \"is \", h)\n",
        "        if target[i] == \"yes\":\n",
        "            print(\"Instance is Positive \")\n",
        "            for x in range(len(specific_h)):\n",
        "                if h[x]!= specific_h[x]:\n",
        "                    specific_h[x] ='?'\n",
        "                    general_h[x][x] ='?'\n",
        "        if target[i] == \"no\":\n",
        "            print(\"Instance is Negative \")\n",
        "            for x in range(len(specific_h)):\n",
        "                if h[x]!= specific_h[x]:\n",
        "                    general_h[x][x] = specific_h[x]\n",
        "                else:\n",
        "                    general_h[x][x] = '?'\n",
        "    indices = [i for i, val in enumerate(general_h) if val == ['?', '?', '?', '?', '?', '?']]\n",
        "    for i in indices:\n",
        "        general_h.remove(['?', '?', '?', '?', '?', '?'])\n",
        "    return specific_h, general_h\n",
        "s_final, g_final = learn(d, target)\n",
        "print(\"Final Specific_h: \", s_final, sep=\"\\n\")\n",
        "print(\"Final General_h: \", g_final, sep=\"\\n\")"
      ]
    },
    {
      "cell_type": "code",
      "execution_count": null,
      "id": "143db523-c65c-4a95-8931-fe36f6e1be0d",
      "metadata": {
        "id": "143db523-c65c-4a95-8931-fe36f6e1be0d",
        "outputId": "8cb33c35-65c5-4039-8f59-4b967191802c"
      },
      "outputs": [
        {
          "name": "stdout",
          "output_type": "stream",
          "text": [
            "Accuracy: 1.0\n",
            "[[0 0]\n",
            " [0 2]]\n",
            "              precision    recall  f1-score   support\n",
            "\n",
            "           1       1.00      1.00      1.00         2\n",
            "\n",
            "    accuracy                           1.00         2\n",
            "   macro avg       1.00      1.00      1.00         2\n",
            "weighted avg       1.00      1.00      1.00         2\n",
            "\n",
            "[1, 0, 0, 1]\n",
            "Got Job\n"
          ]
        }
      ],
      "source": [
        "#ID3\n",
        "import pandas as pd\n",
        "from sklearn.tree import DecisionTreeClassifier\n",
        "from sklearn.model_selection import train_test_split\n",
        "from sklearn.preprocessing import LabelEncoder\n",
        "from sklearn import metrics\n",
        "from sklearn.metrics import classification_report,confusion_matrix\n",
        "data={'CGPA':['g9','g8','g9','l8','g8','g9','l8','g9','g8','g8'],\n",
        "    'Inter':['Y','N','N','N','Y','Y','Y','N','Y','Y'],\n",
        "    'PK':['+++','+','==','==','+','+','+','+++','+','=='],\n",
        "    'CS':['G','M','P','G','M','M','P','G','G','G'],\n",
        "    'Job':['Y','Y','N','N','Y','Y','N','Y','Y','Y']}\n",
        "table=pd.DataFrame(data,columns=[\"CGPA\",\"Inter\",\"PK\",\"CS\",\"Job\"])\n",
        "table.where(table[\"CGPA\"]==\"g9\").count()\n",
        "encoder=LabelEncoder()\n",
        "for i in table:\n",
        "    table[i]=encoder.fit_transform(table[i])\n",
        "X=table.iloc[:,0:4].values\n",
        "y=table.iloc[:,4].values\n",
        "X_train,X_test,y_train,y_test = train_test_split(X,y,test_size=0.20,random_state=2)\n",
        "model=DecisionTreeClassifier(criterion = 'entropy',max_depth=3)\n",
        "model=model.fit(X_train,y_train)\n",
        "y_pred = model.predict(X_test)\n",
        "print(\"Accuracy:\",metrics.accuracy_score(y_test,y_pred))\n",
        "print(confusion_matrix(y_test, y_pred, labels=[0, 1]))\n",
        "print(classification_report(y_test,y_pred))\n",
        "print([1,0,0,1])\n",
        "if model.predict([[1,0,0,1]])==1:\n",
        "    print(\"Got Job\")\n",
        "else:\n",
        "    print(\"Didn't get job\")"
      ]
    },
    {
      "cell_type": "code",
      "execution_count": null,
      "id": "85af7829-8387-41a9-b2fc-977a9c8e2609",
      "metadata": {
        "id": "85af7829-8387-41a9-b2fc-977a9c8e2609",
        "outputId": "560961f8-eacf-4d3c-d1b4-37530e447038"
      },
      "outputs": [
        {
          "data": {
            "image/png": "[encoded data removed]",
            "text/plain": [
              "<Figure size 640x480 with 1 Axes>"
            ]
          },
          "metadata": {},
          "output_type": "display_data"
        },
        {
          "data": {
            "image/png": "[encoded data removed]",
            "text/plain": [
              "<Figure size 640x480 with 1 Axes>"
            ]
          },
          "metadata": {},
          "output_type": "display_data"
        },
        {
          "name": "stdout",
          "output_type": "stream",
          "text": [
            "r2 score 0.9749154407708353\n",
            "mean squared error 21026037.329511296\n",
            "weights [9345.94244312]\n",
            "Intercept 26816.192244031183\n"
          ]
        }
      ],
      "source": [
        "#Single-Linear Regression\n",
        "import numpy as np\n",
        "import matplotlib.pyplot as plt\n",
        "import pandas as pd\n",
        "from sklearn.model_selection import train_test_split\n",
        "dataset=pd.read_csv('Salary_Data.csv')\n",
        "X=dataset.iloc[:,:-1].values\n",
        "y=dataset.iloc[:,-1].values\n",
        "X_train,X_test,y_train,y_test=train_test_split(X,y,test_size=1/3,random_state=0)\n",
        "from sklearn.linear_model import LinearRegression\n",
        "regressor=LinearRegression()\n",
        "regressor.fit(X_train,y_train)\n",
        "y_pred=regressor.predict(X_test)\n",
        "plt.scatter(X_train,y_train,color='red')\n",
        "plt.plot(X_train,regressor.predict(X_train),color='blue')\n",
        "plt.title('sal vs exp (training set)')\n",
        "plt.xlabel('years of exp')\n",
        "plt.ylabel('salary')\n",
        "plt.show()\n",
        "plt.scatter(X_test,y_test,color='green')\n",
        "plt.plot(X_train,regressor.predict(X_train),color='blue')\n",
        "plt.title('sal vs exp (test set)')\n",
        "plt.xlabel('years of exp')\n",
        "plt.ylabel('salary')\n",
        "plt.show()\n",
        "from sklearn.metrics import mean_squared_error\n",
        "from sklearn.metrics import r2_score\n",
        "r2=r2_score(y_test,y_pred)\n",
        "print('r2 score',r2)\n",
        "print('mean squared error',mean_squared_error(y_test,y_pred))\n",
        "print('weights',regressor.coef_)\n",
        "print(\"Intercept\",regressor.intercept_)"
      ]
    },
    {
      "cell_type": "code",
      "execution_count": null,
      "id": "42baf44a-772d-429a-9efc-dbd0267b5ee5",
      "metadata": {
        "id": "42baf44a-772d-429a-9efc-dbd0267b5ee5",
        "outputId": "ba706487-03ea-4a9d-a686-25ac1113deb3"
      },
      "outputs": [
        {
          "name": "stdout",
          "output_type": "stream",
          "text": [
            "Defaulting to user installation because normal site-packages is not writeable\n",
            "Collecting seaborn\n",
            "  Downloading seaborn-0.13.2-py3-none-any.whl.metadata (5.4 kB)\n",
            "Requirement already satisfied: numpy!=1.24.0,>=1.20 in /home/user/.local/lib/python3.10/site-packages (from seaborn) (1.26.4)\n",
            "Requirement already satisfied: pandas>=1.2 in /home/user/.local/lib/python3.10/site-packages (from seaborn) (2.2.0)\n",
            "Requirement already satisfied: matplotlib!=3.6.1,>=3.4 in /usr/local/lib/python3.10/dist-packages (from seaborn) (3.8.3)\n",
            "Requirement already satisfied: contourpy>=1.0.1 in /usr/local/lib/python3.10/dist-packages (from matplotlib!=3.6.1,>=3.4->seaborn) (1.2.0)\n",
            "Requirement already satisfied: cycler>=0.10 in /usr/local/lib/python3.10/dist-packages (from matplotlib!=3.6.1,>=3.4->seaborn) (0.12.1)\n",
            "Requirement already satisfied: fonttools>=4.22.0 in /usr/local/lib/python3.10/dist-packages (from matplotlib!=3.6.1,>=3.4->seaborn) (4.49.0)\n",
            "Requirement already satisfied: kiwisolver>=1.3.1 in /usr/local/lib/python3.10/dist-packages (from matplotlib!=3.6.1,>=3.4->seaborn) (1.4.5)\n",
            "Requirement already satisfied: packaging>=20.0 in /home/user/.local/lib/python3.10/site-packages (from matplotlib!=3.6.1,>=3.4->seaborn) (23.2)\n",
            "Requirement already satisfied: pillow>=8 in /usr/lib/python3/dist-packages (from matplotlib!=3.6.1,>=3.4->seaborn) (9.0.1)\n",
            "Requirement already satisfied: pyparsing>=2.3.1 in /usr/lib/python3/dist-packages (from matplotlib!=3.6.1,>=3.4->seaborn) (2.4.7)\n",
            "Requirement already satisfied: python-dateutil>=2.7 in /home/user/.local/lib/python3.10/site-packages (from matplotlib!=3.6.1,>=3.4->seaborn) (2.8.2)\n",
            "Requirement already satisfied: pytz>=2020.1 in /usr/lib/python3/dist-packages (from pandas>=1.2->seaborn) (2022.1)\n",
            "Requirement already satisfied: tzdata>=2022.7 in /home/user/.local/lib/python3.10/site-packages (from pandas>=1.2->seaborn) (2024.1)\n",
            "Requirement already satisfied: six>=1.5 in /usr/lib/python3/dist-packages (from python-dateutil>=2.7->matplotlib!=3.6.1,>=3.4->seaborn) (1.16.0)\n",
            "Downloading seaborn-0.13.2-py3-none-any.whl (294 kB)\n",
            "\u001b[2K   \u001b[38;2;114;156;31m━━━━━━━━━━━━━━━━━━━━━━━━━━━━━━━━━━━━━━━━\u001b[0m \u001b[32m294.9/294.9 kB\u001b[0m \u001b[31m1.9 MB/s\u001b[0m eta \u001b[36m0:00:00\u001b[0m MB/s\u001b[0m eta \u001b[36m0:00:01\u001b[0m:01\u001b[0mm\n",
            "\u001b[?25hInstalling collected packages: seaborn\n",
            "Successfully installed seaborn-0.13.2\n",
            "Note: you may need to restart the kernel to use updated packages.\n"
          ]
        }
      ],
      "source": [
        "pip install seaborn"
      ]
    },
    {
      "cell_type": "code",
      "execution_count": null,
      "id": "27972cad-6fa0-444f-adcf-1e19799b9332",
      "metadata": {
        "id": "27972cad-6fa0-444f-adcf-1e19799b9332",
        "outputId": "8f769599-c0aa-480d-b532-a4ffeaa6f7b4"
      },
      "outputs": [
        {
          "name": "stdout",
          "output_type": "stream",
          "text": [
            "(149, 5)\n",
            "   5.1  3.5  1.4  0.2  Iris-setosa\n",
            "0  4.9  3.0  1.4  0.2  Iris-setosa\n",
            "1  4.7  3.2  1.3  0.2  Iris-setosa\n",
            "2  4.6  3.1  1.5  0.2  Iris-setosa\n",
            "3  5.0  3.6  1.4  0.2  Iris-setosa\n",
            "4  5.4  3.9  1.7  0.4  Iris-setosa\n",
            "              5.1         3.5         1.4         0.2\n",
            "count  149.000000  149.000000  149.000000  149.000000\n",
            "mean     5.848322    3.051007    3.774497    1.205369\n",
            "std      0.828594    0.433499    1.759651    0.761292\n",
            "min      4.300000    2.000000    1.000000    0.100000\n",
            "25%      5.100000    2.800000    1.600000    0.300000\n",
            "50%      5.800000    3.000000    4.400000    1.300000\n",
            "75%      6.400000    3.300000    5.100000    1.800000\n",
            "max      7.900000    4.400000    6.900000    2.500000\n",
            "['Iris-virginica' 'Iris-setosa' 'Iris-setosa' 'Iris-setosa'\n",
            " 'Iris-virginica' 'Iris-setosa' 'Iris-virginica' 'Iris-setosa'\n",
            " 'Iris-virginica' 'Iris-virginica' 'Iris-setosa' 'Iris-versicolor'\n",
            " 'Iris-virginica' 'Iris-setosa' 'Iris-virginica' 'Iris-virginica'\n",
            " 'Iris-setosa' 'Iris-versicolor' 'Iris-virginica' 'Iris-virginica'\n",
            " 'Iris-versicolor' 'Iris-versicolor' 'Iris-versicolor' 'Iris-versicolor'\n",
            " 'Iris-setosa' 'Iris-setosa' 'Iris-versicolor' 'Iris-versicolor'\n",
            " 'Iris-setosa' 'Iris-setosa']\n",
            "[[12  0  0]\n",
            " [ 0  8  1]\n",
            " [ 0  0  9]]\n",
            "                 precision    recall  f1-score   support\n",
            "\n",
            "    Iris-setosa       1.00      1.00      1.00        12\n",
            "Iris-versicolor       1.00      0.89      0.94         9\n",
            " Iris-virginica       0.90      1.00      0.95         9\n",
            "\n",
            "       accuracy                           0.97        30\n",
            "      macro avg       0.97      0.96      0.96        30\n",
            "   weighted avg       0.97      0.97      0.97        30\n",
            "\n",
            "Accuracy of our model is equal: 96.67%.\n"
          ]
        }
      ],
      "source": [
        "#KNN\n",
        "import pandas as pd\n",
        "import numpy as np\n",
        "from sklearn.model_selection import train_test_split\n",
        "from sklearn.neighbors import KNeighborsClassifier\n",
        "from sklearn.metrics import classification_report, confusion_matrix, accuracy_score\n",
        "import matplotlib.pyplot as plt\n",
        "dataset = pd.read_csv(\"iris.csv\")\n",
        "print(dataset.shape)\n",
        "print(dataset.head())\n",
        "print(dataset.describe())\n",
        "X=dataset.iloc[:,1:4].values\n",
        "y=dataset.iloc[:,4].values\n",
        "X_train,X_test,y_train,y_test = train_test_split(X,y,test_size=0.20,random_state=2)\n",
        "knn = KNeighborsClassifier(n_neighbors=3)\n",
        "knn.fit(X_train,y_train)\n",
        "y_pred = knn.predict(X_test)\n",
        "print(y_pred)\n",
        "print(confusion_matrix(y_test,y_pred))\n",
        "print(classification_report(y_test,y_pred))\n",
        "accuracy = accuracy_score(y_test,y_pred)*100\n",
        "print('Accuracy of our model is equal: '+ str(round(accuracy,2))+'%.')"
      ]
    },
    {
      "cell_type": "code",
      "execution_count": null,
      "id": "eeb1f461-ddc7-4f65-a327-191bb3466e5c",
      "metadata": {
        "id": "eeb1f461-ddc7-4f65-a327-191bb3466e5c",
        "outputId": "512c04a3-4a24-494c-f56b-519de36b2ae2"
      },
      "outputs": [
        {
          "name": "stdout",
          "output_type": "stream",
          "text": [
            "CGPA: [1 0 1 2 0 1 2 1 0 0]\n",
            "Inter: [1 0 0 0 1 1 1 0 1 1]\n",
            "PK: [1 0 2 2 0 0 0 1 0 2]\n",
            "CS: [0 1 2 0 1 1 2 0 0 0]\n",
            "Job: [1 1 0 0 1 1 0 1 1 1]\n",
            "              precision    recall  f1-score   support\n",
            "\n",
            "           1       1.00      1.00      1.00         3\n",
            "\n",
            "    accuracy                           1.00         3\n",
            "   macro avg       1.00      1.00      1.00         3\n",
            "weighted avg       1.00      1.00      1.00         3\n",
            "\n",
            "[[0 0]\n",
            " [0 3]]\n",
            "[2, 0, 2, 0]\n",
            "Predicted value: Didn't get Job\n"
          ]
        }
      ],
      "source": [
        "#Naive Bayes\n",
        "from sklearn.preprocessing import LabelEncoder\n",
        "from sklearn.model_selection import train_test_split\n",
        "from sklearn import metrics\n",
        "from sklearn.naive_bayes import GaussianNB\n",
        "from sklearn import preprocessing\n",
        "from sklearn.metrics import classification_report,confusion_matrix\n",
        "CGPA=['g9','g8','g9','l8','g8','g9','l8','g9','g8','g8']\n",
        "Inter=['Y','N','N','N','Y','Y','Y','N','Y','Y']\n",
        "PK=['+++','+','==','==','+','+','+','+++','+','==']\n",
        "CS=['G','M','P','G','M','M','P','G','G','G']\n",
        "Job=['Y','Y','N','N','Y','Y','N','Y','Y','Y']\n",
        "le = preprocessing.LabelEncoder()\n",
        "CGPA_encoded = le.fit_transform(CGPA)\n",
        "print(\"CGPA:\",CGPA_encoded)\n",
        "Inter_encoded = le.fit_transform(Inter)\n",
        "PK_encoded = le.fit_transform(PK)\n",
        "CS_encoded = le.fit_transform(CS)\n",
        "label = le.fit_transform(Job)\n",
        "print(\"Inter:\",Inter_encoded)\n",
        "print(\"PK:\",PK_encoded)\n",
        "print(\"CS:\",CS_encoded)\n",
        "print(\"Job:\",label)\n",
        "features = []\n",
        "for i in range(len(CGPA_encoded)):\n",
        "    features.append([CGPA_encoded[i],Inter_encoded[i],PK_encoded[i],CS_encoded[i]])\n",
        "X_train,X_test,y_train,y_test=train_test_split(features,label,test_size=0.30,random_state=2)\n",
        "model = GaussianNB()\n",
        "model.fit(features,label)\n",
        "y_pred = model.predict(X_test)\n",
        "print(classification_report(y_test,y_pred))\n",
        "print(confusion_matrix(y_test, y_pred, labels=[0, 1]))\n",
        "print([2,0,2,0])\n",
        "if model.predict([[2,0,2,0]])==1:\n",
        "    print(\"Predicted value: Got Job\")\n",
        "else:\n",
        "    print(\"Predicted value: Didn't get Job\")"
      ]
    },
    {
      "cell_type": "code",
      "execution_count": null,
      "id": "4923feea-2225-49a6-aafa-df347fa14083",
      "metadata": {
        "id": "4923feea-2225-49a6-aafa-df347fa14083",
        "outputId": "48b6beb2-45e6-44e6-9932-19ccbdf5753c"
      },
      "outputs": [
        {
          "name": "stdout",
          "output_type": "stream",
          "text": [
            "CGPA: [1 0 1 2 0 1 2 1 0 0]\n",
            "Inter: [1 0 0 0 1 1 1 0 1 1]\n",
            "PK: [1 0 2 2 0 0 0 1 0 2]\n",
            "CS: [0 1 2 0 1 1 2 0 0 0]\n",
            "Job: [1 1 0 0 1 1 0 1 1 1]\n",
            "              precision    recall  f1-score   support\n",
            "\n",
            "           1       1.00      1.00      1.00         3\n",
            "\n",
            "    accuracy                           1.00         3\n",
            "   macro avg       1.00      1.00      1.00         3\n",
            "weighted avg       1.00      1.00      1.00         3\n",
            "\n",
            "[[3]]\n",
            "[2, 0, 2, 0]\n",
            "Predicted value: Didn't get Job\n"
          ]
        }
      ],
      "source": [
        "#Naive Bayes\n",
        "from sklearn.preprocessing import LabelEncoder\n",
        "from sklearn.model_selection import train_test_split\n",
        "from sklearn import metrics\n",
        "from sklearn.naive_bayes import GaussianNB\n",
        "from sklearn import preprocessing\n",
        "from sklearn.metrics import classification_report,confusion_matrix\n",
        "CGPA=['g9','g8','g9','l8','g8','g9','l8','g9','g8','g8']\n",
        "Inter=['Y','N','N','N','Y','Y','Y','N','Y','Y']\n",
        "PK=['+++','+','==','==','+','+','+','+++','+','==']\n",
        "CS=['G','M','P','G','M','M','P','G','G','G']\n",
        "Job=['Y','Y','N','N','Y','Y','N','Y','Y','Y']\n",
        "le = preprocessing.LabelEncoder()\n",
        "CGPA_encoded = le.fit_transform(CGPA)\n",
        "print(\"CGPA:\",CGPA_encoded)\n",
        "Inter_encoded = le.fit_transform(Inter)\n",
        "PK_encoded = le.fit_transform(PK)\n",
        "CS_encoded = le.fit_transform(CS)\n",
        "label = le.fit_transform(Job)\n",
        "print(\"Inter:\",Inter_encoded)\n",
        "print(\"PK:\",PK_encoded)\n",
        "print(\"CS:\",CS_encoded)\n",
        "print(\"Job:\",label)\n",
        "features = []\n",
        "for i in range(len(CGPA_encoded)):\n",
        " features.append([CGPA_encoded[i],Inter_encoded[i],PK_encoded[i],CS_encoded[i]])\n",
        "X_train,X_test,y_train,y_test=train_test_split(features,label,test_size=0.30,random_state=2)\n",
        "model = GaussianNB()\n",
        "model.fit(features,label)\n",
        "y_pred = model.predict(X_test)\n",
        "print(classification_report(y_test,y_pred))\n",
        "print(confusion_matrix(y_test,y_pred))\n",
        "print([2,0,2,0])\n",
        "if model.predict([[2,0,2,0]])==1:\n",
        " print(\"Predicted value: Got Job\")\n",
        "else:\n",
        " print(\"Predicted value: Didn't get Job\")"
      ]
    },
    {
      "cell_type": "code",
      "execution_count": null,
      "id": "d0e77f3d",
      "metadata": {
        "id": "d0e77f3d"
      },
      "outputs": [],
      "source": []
    }
  ],
  "metadata": {
    "kernelspec": {
      "display_name": "Python 3 (ipykernel)",
      "language": "python",
      "name": "python3"
    },
    "language_info": {
      "codemirror_mode": {
        "name": "ipython",
        "version": 3
      },
      "file_extension": ".py",
      "mimetype": "text/x-python",
      "name": "python",
      "nbconvert_exporter": "python",
      "pygments_lexer": "ipython3",
      "version": "3.11.5"
    },
    "colab": {
      "provenance": [],
      "include_colab_link": true
    }
  },
  "nbformat": 4,
  "nbformat_minor": 5
}